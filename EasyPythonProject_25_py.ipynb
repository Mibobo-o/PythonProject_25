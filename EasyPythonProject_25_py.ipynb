{
  "nbformat": 4,
  "nbformat_minor": 0,
  "metadata": {
    "colab": {
      "provenance": [],
      "authorship_tag": "ABX9TyOKXl7Tn4cYMEdiooduP+l3",
      "include_colab_link": true
    },
    "kernelspec": {
      "name": "python3",
      "display_name": "Python 3"
    },
    "language_info": {
      "name": "python"
    }
  },
  "cells": [
    {
      "cell_type": "markdown",
      "metadata": {
        "id": "view-in-github",
        "colab_type": "text"
      },
      "source": [
        "<a href=\"https://colab.research.google.com/github/Mibobo-o/PythonProject_25/blob/main/EasyPythonProject_25_py.ipynb\" target=\"_parent\"><img src=\"https://colab.research.google.com/assets/colab-badge.svg\" alt=\"Open In Colab\"/></a>"
      ]
    },
    {
      "cell_type": "markdown",
      "source": [
        "- 입력한 변수를 포함한 문자열 출력 방법 3가지\n",
        "- How to put string together"
      ],
      "metadata": {
        "id": "hUsmuClrFDYA"
      }
    },
    {
      "cell_type": "code",
      "source": [
        "#string concatenation (aka how to put string together)\n",
        "#Suppose we want to create a string that says \"subscribe to ____\"\n",
        "youtuber = \"minju\" #some string variable\n",
        "\n",
        "#a few mays to do this\n",
        "print(\"subscribe to \"+ youtuber)\n",
        "print(\"subscribe to {}\".format(youtuber))\n",
        "print(f\"subscribe to {youtuber}\")\n",
        "\n",
        "#참고\n",
        "print('subscribe to {youtuber}')\n"
      ],
      "metadata": {
        "colab": {
          "base_uri": "https://localhost:8080/"
        },
        "id": "OUJ8tFKcCupW",
        "outputId": "5d4507e5-4c57-422e-a851-b616ba5a99f6"
      },
      "execution_count": null,
      "outputs": [
        {
          "output_type": "stream",
          "name": "stdout",
          "text": [
            "subscribe to minju\n",
            "subscribe to minju\n",
            "subscribe to minju\n",
            "subscribe to {youtuber}\n"
          ]
        }
      ]
    },
    {
      "cell_type": "markdown",
      "source": [
        "#1. MADLIBS\n",
        "- 문장 사이에 문자열을 입력하는 게임\n",
        "- Input함수와 문자열 출력 함수를 알 수 있다.\n",
        "- 변수 지정도 가능"
      ],
      "metadata": {
        "id": "NtVPnUcFDgkf"
      }
    },
    {
      "cell_type": "code",
      "execution_count": null,
      "metadata": {
        "colab": {
          "base_uri": "https://localhost:8080/"
        },
        "id": "s9Wb-TvVzrt4",
        "outputId": "210e632e-72e6-4956-e8b1-3abf7a68e95a"
      },
      "outputs": [
        {
          "output_type": "stream",
          "name": "stdout",
          "text": [
            "Adjective: amazing\n",
            "verb1: skydive\n",
            "verb2: jump \n",
            "Famus person: Captain America\n",
            "Computer programming is so amazing! It makes me so excited all the time because \n",
            " I love to skydive. Stay hydrated and jump  like you are Captain America! \n"
          ]
        }
      ],
      "source": [
        "\n",
        "adj = input(\"Adjective: \")\n",
        "verb1 = input(\"verb1: \")\n",
        "verb2 = input(\"verb2: \")\n",
        "famus_person = input(\"Famus person: \")\n",
        "\n",
        "madlib = f\"Computer programming is so {adj}! It makes me so excited all the time because \\n \\\n",
        " I love to {verb1}. Stay hydrated and {verb2} like you are {famus_person}! \"\n",
        "\n",
        "print(madlib)"
      ]
    },
    {
      "cell_type": "markdown",
      "source": [
        "#2. Guess The Number (Computer)\n",
        "- 파이썬 랜덤 모듈(random module)을 다룰 수 있다.\n",
        "\n",
        "  ```\n",
        "  random.randint(a, b)\n",
        "  ```\n",
        "  -  return a random intager N such that a <= N <= b.\n",
        "  - Alias for randrange(a, b+i).\n",
        "  - docs.python.org > \"Function for integers\" 참고\n",
        "- 함수를 만들고 while문과 조건문을 다룰 수 있다.\n",
        "-  사용자 입력값을 받는 방법에 대해 배울 수 있다.\n"
      ],
      "metadata": {
        "id": "69Cy4xRfGLZ6"
      }
    },
    {
      "cell_type": "code",
      "source": [
        "import random #Python에서 같이 제공되는 패키지\n",
        "def guess(x): #guess 정의\n",
        "  random_number = random.randint(1, x)\n",
        "  guess = 0\n",
        "  while guess != random_number:\n",
        "    guess = int(input(f'Guess a number between 1 and {x}: '))\n",
        "    if guess < random_number:\n",
        "      print('Sorry, guess again. Too low')\n",
        "    elif guess > random_number:\n",
        "      print('Sorry, guess again. Too high.')\n",
        "\n",
        "  print(f'Yay, congrats. You have guessd the number {random_number} correctly. ')\n",
        "\n",
        "guess(10)"
      ],
      "metadata": {
        "colab": {
          "base_uri": "https://localhost:8080/"
        },
        "id": "EQYggv4NHJ6d",
        "outputId": "257b8116-4094-4fae-da79-2dc33099c3c1"
      },
      "execution_count": null,
      "outputs": [
        {
          "output_type": "stream",
          "name": "stdout",
          "text": [
            "Guess a number between 1 and 10: 5\n",
            "Sorry, guess again. Too low\n",
            "Guess a number between 1 and 10: 8\n",
            "Yay, congrats. You have guessd the number {random_number} correctly. \n"
          ]
        }
      ]
    },
    {
      "cell_type": "markdown",
      "source": [
        "#3. Guess The Number (User)\n",
        "\n",
        "- 컴퓨터가맞추는 역할\n",
        "\n"
      ],
      "metadata": {
        "id": "FQeFOS7YAM2P"
      }
    },
    {
      "cell_type": "code",
      "source": [
        "import random #Python에서 같이 제공되는 패키지l\n",
        "def computer_guess(x):\n",
        "  low = 1\n",
        "  high = x\n",
        "  feedback = ''\n",
        "  while feedback != 'c':\n",
        "    if low != high:\n",
        "     guess = random.randint(low, high) #low와 high 범위 내에 랜덤한 수를 추춯\n",
        "    else:\n",
        "      guess = low # could also be high b/c low/high\n",
        "    feedback = input(f'Is {guess} too high (H), too low (L), or correct (C)?? ').lower()\n",
        "    if feedback == 'h':\n",
        "      high = guess - 1\n",
        "    elif feedback == 'l':\n",
        "      low = guess + 1\n",
        "\n",
        "  print(f'Yay! The computer guessed your number, {guess}, correctly!')\n",
        "\n",
        "computer_guess(1000)\n",
        "\n"
      ],
      "metadata": {
        "colab": {
          "base_uri": "https://localhost:8080/"
        },
        "id": "YWdcNA0kAQpU",
        "outputId": "bba7163f-0848-4b09-e6a5-a671b125cbfb"
      },
      "execution_count": null,
      "outputs": [
        {
          "output_type": "stream",
          "name": "stdout",
          "text": [
            "Is 7 too high (H), too low (L), or correct (C)?? H\n",
            "Is 3 too high (H), too low (L), or correct (C)?? \n",
            "Is 4 too high (H), too low (L), or correct (C)?? L\n",
            "Is 5 too high (H), too low (L), or correct (C)?? L\n",
            "Is 6 too high (H), too low (L), or correct (C)?? C\n",
            "Yay! The computer guessed your number, 6, correctly!\n"
          ]
        }
      ]
    },
    {
      "cell_type": "markdown",
      "source": [
        "#4. Rock paper scissors"
      ],
      "metadata": {
        "id": "Qhkq4R7BAQAP"
      }
    },
    {
      "cell_type": "code",
      "source": [
        "import random\n",
        "\n",
        "def play():\n",
        "    user = input(\"What's your choice? 'r' for rock, 'p' for paper, 's' for scissors\\n\")\n",
        "    computer = random.choice(['r', 'p', 's']) #랜덤으로 초이스함\n",
        "\n",
        "    if user == computer:\n",
        "        return 'It\\'s a tie'\n",
        "\n",
        "    #r > s, s > p, p > r\n",
        "    if is_win(user, computer):\n",
        "        return 'You won!'\n",
        "    if is_win(computer, user):\n",
        "        return 'You lost!'\n",
        "\n",
        "def is_win(player, opponent):\n",
        "    #return ture if player wins\n",
        "    #r > s, s > p, p > r\n",
        "    if(player == 'r' and opponent == 's') or (player == 's' and opponent == 'p') \\\n",
        "        or (player == 'p' and opponent == 'r'):\n",
        "        return true\n",
        "\n",
        "\n",
        "print(play())"
      ],
      "metadata": {
        "id": "OQYkC0llAqnJ",
        "colab": {
          "base_uri": "https://localhost:8080/"
        },
        "outputId": "a93c5d86-3761-45b2-a7ed-2b492010d80e"
      },
      "execution_count": null,
      "outputs": [
        {
          "output_type": "stream",
          "name": "stdout",
          "text": [
            "What's your choice? 'r'for rock, 'p' for paper, 's' for scissors\n",
            "s\n",
            "It's a tie\n"
          ]
        }
      ]
    },
    {
      "cell_type": "markdown",
      "source": [
        "#5. Hangman"
      ],
      "metadata": {
        "id": "BRZog2LuArtM"
      }
    },
    {
      "cell_type": "code",
      "source": [
        "!pwd  # 현재 디렉토리 경로 출력\n"
      ],
      "metadata": {
        "colab": {
          "base_uri": "https://localhost:8080/"
        },
        "id": "35eWG9m75TSB",
        "outputId": "047a7de8-c887-4043-e954-ddfc55e4dacc"
      },
      "execution_count": 44,
      "outputs": [
        {
          "output_type": "stream",
          "name": "stdout",
          "text": [
            "/content\n"
          ]
        }
      ]
    },
    {
      "cell_type": "code",
      "source": [
        "!ls  # 현재 디렉토리의 파일 리스트 출력\n"
      ],
      "metadata": {
        "colab": {
          "base_uri": "https://localhost:8080/"
        },
        "id": "tGQT5k3W5WXB",
        "outputId": "5f1c8265-9d73-44fe-fd2e-66e2e6d0abd8"
      },
      "execution_count": 45,
      "outputs": [
        {
          "output_type": "stream",
          "name": "stdout",
          "text": [
            "drive  sample_data  words_py.py\n"
          ]
        }
      ]
    },
    {
      "cell_type": "code",
      "source": [
        "!mv words_py.py word.py #이름이 잘못입력 되어있어서 파일 이름 변경\n"
      ],
      "metadata": {
        "id": "cLXCgpaX6HNO"
      },
      "execution_count": 50,
      "outputs": []
    },
    {
      "cell_type": "code",
      "source": [
        "import sys\n",
        "sys.path.append('/content')  # 현재 디렉토리를 Python 경로에 추가\n",
        "import word  # 이제 word.py를 import\n"
      ],
      "metadata": {
        "id": "Y_SJUGCk5i0-"
      },
      "execution_count": 51,
      "outputs": []
    },
    {
      "cell_type": "code",
      "source": [
        "!ls # 파일 이름을 다시 확인, 디렉토리 내 파일을 출력해 확인\n"
      ],
      "metadata": {
        "colab": {
          "base_uri": "https://localhost:8080/"
        },
        "id": "lhHAN6JO6R-c",
        "outputId": "7ac44e82-7b7c-48b8-c5fc-cd5c7b61a992"
      },
      "execution_count": 52,
      "outputs": [
        {
          "output_type": "stream",
          "name": "stdout",
          "text": [
            "drive  __pycache__  sample_data  word.py\n"
          ]
        }
      ]
    },
    {
      "cell_type": "code",
      "source": [
        "!cat word.py # 파일 내용 확인\n"
      ],
      "metadata": {
        "colab": {
          "base_uri": "https://localhost:8080/"
        },
        "id": "xAuy7Kan6TVP",
        "outputId": "415f7500-7bf1-48f3-b009-5dcbfccf6d9e"
      },
      "execution_count": 55,
      "outputs": [
        {
          "output_type": "stream",
          "name": "stdout",
          "text": [
            "# -*- coding: utf-8 -*-\n",
            "\"\"\"words.py\n",
            "\n",
            "Automatically generated by Colab.\n",
            "\n",
            "Original file is located at\n",
            "    https://colab.research.google.com/drive/1bdblsFiG6bFDOkccjyPLIRJDYUNjJt-p\n",
            "\"\"\"\n",
            "\n",
            "words = {\"data\":[\"aback\",\"abaft\",\"abandoned\",\"abashed\",\"aberrant\",\"abhorrent\",\"abiding\",\"abject\",\"ablaze\",\"able\",\"abnormal\",\"aboard\",\"aboriginal\",\"abortive\",\"abounding\",\"abrasive\",\"abrupt\",\"absent\",\"absorbed\",\"absorbing\",\"abstracted\",\"absurd\",\"abundant\",\"abusive\",\"accept\",\"acceptable\",\"accessible\",\"accidental\",\"account\",\"accurate\",\"achiever\",\"acid\",\"acidic\",\"acoustic\",\"acoustics\",\"acrid\",\"act\",\"action\",\"activity\",\"actor\",\"actually\",\"ad hoc\",\"adamant\",\"adaptable\",\"add\",\"addicted\",\"addition\",\"adhesive\",\"adjoining\",\"adjustment\",\"admire\",\"admit\",\"adorable\",\"adventurous\",\"advertisement\",\"advice\",\"advise\",\"afford\",\"afraid\",\"aftermath\",\"afternoon\",\"afterthought\",\"aggressive\",\"agonizing\",\"agree\",\"agreeable\",\"agreement\",\"ahead\",\"air\",\"airplane\",\"airport\",\"ajar\",\"alarm\",\"alcoholic\",\"alert\",\"alike\",\"alive\",\"alleged\",\"allow\",\"alluring\",\"aloof\",\"amazing\",\"ambiguous\",\"ambitious\",\"amount\",\"amuck\",\"amuse\",\"amused\",\"amusement\",\"amusing\",\"analyze\",\"ancient\",\"anger\",\"angle\",\"angry\",\"animal\",\"animated\",\"announce\",\"annoy\",\"annoyed\",\"annoying\",\"answer\",\"ants\",\"anxious\",\"apathetic\",\"apologise\",\"apparatus\",\"apparel\",\"appear\",\"applaud\",\"appliance\",\"appreciate\",\"approval\",\"approve\",\"aquatic\",\"arch\",\"argue\",\"argument\",\"arithmetic\",\"arm\",\"army\",\"aromatic\",\"arrange\",\"arrest\",\"arrive\",\"arrogant\",\"art\",\"ashamed\",\"ask\",\"aspiring\",\"assorted\",\"astonishing\",\"attach\",\"attack\",\"attempt\",\"attend\",\"attract\",\"attraction\",\"attractive\",\"aunt\",\"auspicious\",\"authority\",\"automatic\",\"available\",\"average\",\"avoid\",\"awake\",\"aware\",\"awesome\",\"awful\",\"axiomatic\",\"babies\",\"baby\",\"back\",\"bad\",\"badge\",\"bag\",\"bait\",\"bake\",\"balance\",\"ball\",\"ban\",\"bang\",\"barbarous\",\"bare\",\"base\",\"baseball\",\"bashful\",\"basin\",\"basket\",\"basketball\",\"bat\",\"bath\",\"bathe\",\"battle\",\"bawdy\",\"bead\",\"beam\",\"bear\",\"beautiful\",\"bed\",\"bedroom\",\"beds\",\"bee\",\"beef\",\"befitting\",\"beg\",\"beginner\",\"behave\",\"behavior\",\"belief\",\"believe\",\"bell\",\"belligerent\",\"bells\",\"belong\",\"beneficial\",\"bent\",\"berry\",\"berserk\",\"best\",\"better\",\"bewildered\",\"big\",\"bike\",\"bikes\",\"billowy\",\"bird\",\"birds\",\"birth\",\"birthday\",\"bit\",\"bite\",\"bite-sized\",\"bitter\",\"bizarre\",\"black\",\"black-and-white\",\"blade\",\"bleach\",\"bless\",\"blind\",\"blink\",\"blood\",\"bloody\",\"blot\",\"blow\",\"blue\",\"blue-eyed\",\"blush\",\"blushing\",\"board\",\"boast\",\"boat\",\"boil\",\"boiling\",\"bolt\",\"bomb\",\"bone\",\"book\",\"books\",\"boorish\",\"boot\",\"border\",\"bore\",\"bored\",\"boring\",\"borrow\",\"bottle\",\"bounce\",\"bouncy\",\"boundary\",\"boundless\",\"bow\",\"box\",\"boy\",\"brainy\",\"brake\",\"branch\",\"brash\",\"brass\",\"brave\",\"brawny\",\"breakable\",\"breath\",\"breathe\",\"breezy\",\"brick\",\"bridge\",\"brief\",\"bright\",\"broad\",\"broken\",\"brother\",\"brown\",\"bruise\",\"brush\",\"bubble\",\"bucket\",\"building\",\"bulb\",\"bump\",\"bumpy\",\"burly\",\"burn\",\"burst\",\"bury\",\"bushes\",\"business\",\"bustling\",\"busy\",\"butter\",\"button\",\"buzz\",\"cabbage\",\"cable\",\"cactus\",\"cagey\",\"cake\",\"cakes\",\"calculate\",\"calculating\",\"calculator\",\"calendar\",\"call\",\"callous\",\"calm\",\"camera\",\"camp\",\"can\",\"cannon\",\"canvas\",\"cap\",\"capable\",\"capricious\",\"caption\",\"car\",\"card\",\"care\",\"careful\",\"careless\",\"caring\",\"carpenter\",\"carriage\",\"carry\",\"cars\",\"cart\",\"carve\",\"cast\",\"cat\",\"cats\",\"cattle\",\"cause\",\"cautious\",\"cave\",\"ceaseless\",\"celery\",\"cellar\",\"cemetery\",\"cent\",\"certain\",\"chalk\",\"challenge\",\"chance\",\"change\",\"changeable\",\"channel\",\"charge\",\"charming\",\"chase\",\"cheap\",\"cheat\",\"check\",\"cheer\",\"cheerful\",\"cheese\",\"chemical\",\"cherries\",\"cherry\",\"chess\",\"chew\",\"chicken\",\"chickens\",\"chief\",\"childlike\",\"children\",\"chilly\",\"chin\",\"chivalrous\",\"choke\",\"chop\",\"chubby\",\"chunky\",\"church\",\"circle\",\"claim\",\"clam\",\"clammy\",\"clap\",\"class\",\"classy\",\"clean\",\"clear\",\"clever\",\"clip\",\"cloistered\",\"close\",\"closed\",\"cloth\",\"cloudy\",\"clover\",\"club\",\"clumsy\",\"cluttered\",\"coach\",\"coal\",\"coast\",\"coat\",\"cobweb\",\"coherent\",\"coil\",\"cold\",\"collar\",\"collect\",\"color\",\"colorful\",\"colossal\",\"colour\",\"comb\",\"combative\",\"comfortable\",\"command\",\"committee\",\"common\",\"communicate\",\"company\",\"compare\",\"comparison\",\"compete\",\"competition\",\"complain\",\"complete\",\"complex\",\"concentrate\",\"concern\",\"concerned\",\"condemned\",\"condition\",\"confess\",\"confuse\",\"confused\",\"connect\",\"connection\",\"conscious\",\"consider\",\"consist\",\"contain\",\"continue\",\"control\",\"cooing\",\"cook\",\"cool\",\"cooperative\",\"coordinated\",\"copper\",\"copy\",\"corn\",\"correct\",\"cough\",\"count\",\"country\",\"courageous\",\"cover\",\"cow\",\"cowardly\",\"cows\",\"crabby\",\"crack\",\"cracker\",\"crash\",\"crate\",\"craven\",\"crawl\",\"crayon\",\"crazy\",\"cream\",\"creator\",\"creature\",\"credit\",\"creepy\",\"crib\",\"crime\",\"crook\",\"crooked\",\"cross\",\"crow\",\"crowd\",\"crowded\",\"crown\",\"cruel\",\"crush\",\"cry\",\"cub\",\"cuddly\",\"cultured\",\"cumbersome\",\"cup\",\"cure\",\"curious\",\"curl\",\"curly\",\"current\",\"curtain\",\"curve\",\"curved\",\"curvy\",\"cushion\",\"cut\",\"cute\",\"cycle\",\"cynical\",\"dad\",\"daffy\",\"daily\",\"dam\",\"damage\",\"damaged\",\"damaging\",\"damp\",\"dance\",\"dangerous\",\"dapper\",\"dare\",\"dark\",\"dashing\",\"daughter\",\"day\",\"dazzling\",\"dead\",\"deadpan\",\"deafening\",\"dear\",\"death\",\"debonair\",\"debt\",\"decay\",\"deceive\",\"decide\",\"decision\",\"decisive\",\"decorate\",\"decorous\",\"deep\",\"deeply\",\"deer\",\"defeated\",\"defective\",\"defiant\",\"degree\",\"delay\",\"delicate\",\"delicious\",\"delight\",\"delightful\",\"delirious\",\"deliver\",\"demonic\",\"depend\",\"dependent\",\"depressed\",\"deranged\",\"describe\",\"descriptive\",\"desert\",\"deserted\",\"deserve\",\"design\",\"desire\",\"desk\",\"destroy\",\"destruction\",\"detail\",\"detailed\",\"detect\",\"determined\",\"develop\",\"development\",\"devilish\",\"didactic\",\"different\",\"difficult\",\"digestion\",\"diligent\",\"dime\",\"dinner\",\"dinosaurs\",\"direction\",\"direful\",\"dirt\",\"dirty\",\"disagree\",\"disagreeable\",\"disappear\",\"disapprove\",\"disarm\",\"disastrous\",\"discover\",\"discovery\",\"discreet\",\"discussion\",\"disgusted\",\"disgusting\",\"disillusioned\",\"dislike\",\"dispensable\",\"distance\",\"distinct\",\"distribution\",\"disturbed\",\"divergent\",\"divide\",\"division\",\"dizzy\",\"dock\",\"doctor\",\"dog\",\"dogs\",\"doll\",\"dolls\",\"domineering\",\"donkey\",\"door\",\"double\",\"doubt\",\"doubtful\",\"downtown\",\"drab\",\"draconian\",\"drag\",\"drain\",\"dramatic\",\"drawer\",\"dream\",\"dreary\",\"dress\",\"drink\",\"drip\",\"driving\",\"drop\",\"drown\",\"drum\",\"drunk\",\"dry\",\"duck\",\"ducks\",\"dull\",\"dust\",\"dusty\",\"dynamic\",\"dysfunctional\",\"eager\",\"ear\",\"early\",\"earn\",\"earsplitting\",\"earth\",\"earthquake\",\"earthy\",\"easy\",\"eatable\",\"economic\",\"edge\",\"educate\",\"educated\",\"education\",\"effect\",\"efficacious\",\"efficient\",\"egg\",\"eggnog\",\"eggs\",\"eight\",\"elastic\",\"elated\",\"elbow\",\"elderly\",\"electric\",\"elegant\",\"elfin\",\"elite\",\"embarrass\",\"embarrassed\",\"eminent\",\"employ\",\"empty\",\"enchanted\",\"enchanting\",\"encourage\",\"encouraging\",\"end\",\"endurable\",\"energetic\",\"engine\",\"enjoy\",\"enormous\",\"enter\",\"entertain\",\"entertaining\",\"enthusiastic\",\"envious\",\"equable\",\"equal\",\"erect\",\"erratic\",\"error\",\"escape\",\"ethereal\",\"evanescent\",\"evasive\",\"even\",\"event\",\"examine\",\"example\",\"excellent\",\"exchange\",\"excite\",\"excited\",\"exciting\",\"exclusive\",\"excuse\",\"exercise\",\"exist\",\"existence\",\"exotic\",\"expand\",\"expansion\",\"expect\",\"expensive\",\"experience\",\"expert\",\"explain\",\"explode\",\"extend\",\"extra-large\",\"extra-small\",\"exuberant\",\"exultant\",\"eye\",\"eyes\",\"fabulous\",\"face\",\"fact\",\"fade\",\"faded\",\"fail\",\"faint\",\"fair\",\"fairies\",\"faithful\",\"fall\",\"fallacious\",\"false\",\"familiar\",\"famous\",\"fanatical\",\"fancy\",\"fang\",\"fantastic\",\"far\",\"far-flung\",\"farm\",\"fascinated\",\"fast\",\"fasten\",\"fat\",\"faulty\",\"fax\",\"fear\",\"fearful\",\"fearless\",\"feeble\",\"feeling\",\"feigned\",\"female\",\"fence\",\"fertile\",\"festive\",\"fetch\",\"few\",\"field\",\"fierce\",\"file\",\"fill\",\"film\",\"filthy\",\"fine\",\"finger\",\"finicky\",\"fire\",\"fireman\",\"first\",\"fish\",\"fit\",\"five\",\"fix\",\"fixed\",\"flag\",\"flagrant\",\"flaky\",\"flame\",\"flap\",\"flash\",\"flashy\",\"flat\",\"flavor\",\"flawless\",\"flesh\",\"flight\",\"flimsy\",\"flippant\",\"float\",\"flock\",\"flood\",\"floor\",\"flow\",\"flower\",\"flowers\",\"flowery\",\"fluffy\",\"fluttering\",\"fly\",\"foamy\",\"fog\",\"fold\",\"follow\",\"food\",\"fool\",\"foolish\",\"foot\",\"force\",\"foregoing\",\"forgetful\",\"fork\",\"form\",\"fortunate\",\"found\",\"four\",\"fowl\",\"fragile\",\"frail\",\"frame\",\"frantic\",\"free\",\"freezing\",\"frequent\",\"fresh\",\"fretful\",\"friction\",\"friend\",\"friendly\",\"friends\",\"frighten\",\"frightened\",\"frightening\",\"frog\",\"frogs\",\"front\",\"fruit\",\"fry\",\"fuel\",\"full\",\"fumbling\",\"functional\",\"funny\",\"furniture\",\"furry\",\"furtive\",\"future\",\"futuristic\",\"fuzzy\",\"gabby\",\"gainful\",\"gamy\",\"gaping\",\"garrulous\",\"gate\",\"gather\",\"gaudy\",\"gaze\",\"geese\",\"general\",\"gentle\",\"ghost\",\"giant\",\"giants\",\"giddy\",\"gifted\",\"gigantic\",\"giraffe\",\"girl\",\"girls\",\"glamorous\",\"glass\",\"gleaming\",\"glib\",\"glistening\",\"glorious\",\"glossy\",\"glove\",\"glow\",\"glue\",\"godly\",\"gold\",\"good\",\"goofy\",\"gorgeous\",\"government\",\"governor\",\"grab\",\"graceful\",\"grade\",\"grain\",\"grandfather\",\"grandiose\",\"grandmother\",\"grape\",\"grass\",\"grate\",\"grateful\",\"gratis\",\"gray\",\"grease\",\"greasy\",\"great\",\"greedy\",\"green\",\"greet\",\"grey\",\"grieving\",\"grin\",\"grip\",\"groan\",\"groovy\",\"grotesque\",\"grouchy\",\"ground\",\"group\",\"growth\",\"grubby\",\"gruesome\",\"grumpy\",\"guarantee\",\"guard\",\"guarded\",\"guess\",\"guide\",\"guiltless\",\"guitar\",\"gullible\",\"gun\",\"gusty\",\"guttural\",\"habitual\",\"hair\",\"haircut\",\"half\",\"hall\",\"hallowed\",\"halting\",\"hammer\",\"hand\",\"handle\",\"hands\",\"handsome\",\"handsomely\",\"handy\",\"hang\",\"hanging\",\"hapless\",\"happen\",\"happy\",\"harass\",\"harbor\",\"hard\",\"hard-to-find\",\"harm\",\"harmonious\",\"harmony\",\"harsh\",\"hat\",\"hate\",\"hateful\",\"haunt\",\"head\",\"heady\",\"heal\",\"health\",\"healthy\",\"heap\",\"heartbreaking\",\"heat\",\"heavenly\",\"heavy\",\"hellish\",\"help\",\"helpful\",\"helpless\",\"hesitant\",\"hideous\",\"high\",\"high-pitched\",\"highfalutin\",\"hilarious\",\"hill\",\"hissing\",\"historical\",\"history\",\"hobbies\",\"hole\",\"holiday\",\"holistic\",\"hollow\",\"home\",\"homeless\",\"homely\",\"honey\",\"honorable\",\"hook\",\"hop\",\"hope\",\"horn\",\"horrible\",\"horse\",\"horses\",\"hose\",\"hospitable\",\"hospital\",\"hot\",\"hour\",\"house\",\"houses\",\"hover\",\"hug\",\"huge\",\"hulking\",\"hum\",\"humdrum\",\"humor\",\"humorous\",\"hungry\",\"hunt\",\"hurried\",\"hurry\",\"hurt\",\"hushed\",\"husky\",\"hydrant\",\"hypnotic\",\"hysterical\",\"ice\",\"icicle\",\"icky\",\"icy\",\"idea\",\"identify\",\"idiotic\",\"ignorant\",\"ignore\",\"ill\",\"ill-fated\",\"ill-informed\",\"illegal\",\"illustrious\",\"imaginary\",\"imagine\",\"immense\",\"imminent\",\"impartial\",\"imperfect\",\"impolite\",\"important\",\"imported\",\"impossible\",\"impress\",\"improve\",\"impulse\",\"incandescent\",\"include\",\"income\",\"incompetent\",\"inconclusive\",\"increase\",\"incredible\",\"industrious\",\"industry\",\"inexpensive\",\"infamous\",\"influence\",\"inform\",\"inject\",\"injure\",\"ink\",\"innate\",\"innocent\",\"inquisitive\",\"insect\",\"insidious\",\"instinctive\",\"instruct\",\"instrument\",\"insurance\",\"intelligent\",\"intend\",\"interest\",\"interesting\",\"interfere\",\"internal\",\"interrupt\",\"introduce\",\"invent\",\"invention\",\"invincible\",\"invite\",\"irate\",\"iron\",\"irritate\",\"irritating\",\"island\",\"itch\",\"itchy\",\"jaded\",\"jagged\",\"jail\",\"jam\",\"jar\",\"jazzy\",\"jealous\",\"jeans\",\"jelly\",\"jellyfish\",\"jewel\",\"jittery\",\"jobless\",\"jog\",\"join\",\"joke\",\"jolly\",\"joyous\",\"judge\",\"judicious\",\"juggle\",\"juice\",\"juicy\",\"jumbled\",\"jump\",\"jumpy\",\"juvenile\",\"kaput\",\"keen\",\"kettle\",\"key\",\"kick\",\"kill\",\"kind\",\"kindhearted\",\"kindly\",\"kiss\",\"kittens\",\"kitty\",\"knee\",\"kneel\",\"knife\",\"knit\",\"knock\",\"knot\",\"knotty\",\"knowing\",\"knowledge\",\"knowledgeable\",\"known\",\"label\",\"labored\",\"laborer\",\"lace\",\"lackadaisical\",\"lacking\",\"ladybug\",\"lake\",\"lame\",\"lamentable\",\"lamp\",\"land\",\"language\",\"languid\",\"large\",\"last\",\"late\",\"laugh\",\"laughable\",\"launch\",\"lavish\",\"lazy\",\"lean\",\"learn\",\"learned\",\"leather\",\"left\",\"leg\",\"legal\",\"legs\",\"lethal\",\"letter\",\"letters\",\"lettuce\",\"level\",\"lewd\",\"library\",\"license\",\"lick\",\"lie\",\"light\",\"lighten\",\"like\",\"likeable\",\"limit\",\"limping\",\"line\",\"linen\",\"lip\",\"liquid\",\"list\",\"listen\",\"literate\",\"little\",\"live\",\"lively\",\"living\",\"load\",\"loaf\",\"lock\",\"locket\",\"lonely\",\"long\",\"long-term\",\"longing\",\"look\",\"loose\",\"lopsided\",\"loss\",\"loud\",\"loutish\",\"love\",\"lovely\",\"loving\",\"low\",\"lowly\",\"lucky\",\"ludicrous\",\"lumber\",\"lumpy\",\"lunch\",\"lunchroom\",\"lush\",\"luxuriant\",\"lying\",\"lyrical\",\"macabre\",\"machine\",\"macho\",\"maddening\",\"madly\",\"magenta\",\"magic\",\"magical\",\"magnificent\",\"maid\",\"mailbox\",\"majestic\",\"makeshift\",\"male\",\"malicious\",\"mammoth\",\"man\",\"manage\",\"maniacal\",\"many\",\"marble\",\"march\",\"mark\",\"marked\",\"market\",\"married\",\"marry\",\"marvelous\",\"mask\",\"mass\",\"massive\",\"match\",\"mate\",\"material\",\"materialistic\",\"matter\",\"mature\",\"meal\",\"mean\",\"measly\",\"measure\",\"meat\",\"meaty\",\"meddle\",\"medical\",\"meek\",\"meeting\",\"mellow\",\"melodic\",\"melt\",\"melted\",\"memorize\",\"memory\",\"men\",\"mend\",\"merciful\",\"mere\",\"mess up\",\"messy\",\"metal\",\"mice\",\"middle\",\"mighty\",\"military\",\"milk\",\"milky\",\"mind\",\"mindless\",\"mine\",\"miniature\",\"minister\",\"minor\",\"mint\",\"minute\",\"miscreant\",\"miss\",\"mist\",\"misty\",\"mitten\",\"mix\",\"mixed\",\"moan\",\"moaning\",\"modern\",\"moldy\",\"mom\",\"momentous\",\"money\",\"monkey\",\"month\",\"moon\",\"moor\",\"morning\",\"mother\",\"motion\",\"motionless\",\"mountain\",\"mountainous\",\"mourn\",\"mouth\",\"move\",\"muddle\",\"muddled\",\"mug\",\"multiply\",\"mundane\",\"murder\",\"murky\",\"muscle\",\"mushy\",\"mute\",\"mysterious\",\"nail\",\"naive\",\"name\",\"nappy\",\"narrow\",\"nasty\",\"nation\",\"natural\",\"naughty\",\"nauseating\",\"near\",\"neat\",\"nebulous\",\"necessary\",\"neck\",\"need\",\"needle\",\"needless\",\"needy\",\"neighborly\",\"nerve\",\"nervous\",\"nest\",\"new\",\"next\",\"nice\",\"nifty\",\"night\",\"nimble\",\"nine\",\"nippy\",\"nod\",\"noise\",\"noiseless\",\"noisy\",\"nonchalant\",\"nondescript\",\"nonstop\",\"normal\",\"north\",\"nose\",\"nostalgic\",\"nosy\",\"note\",\"notebook\",\"notice\",\"noxious\",\"null\",\"number\",\"numberless\",\"numerous\",\"nut\",\"nutritious\",\"nutty\",\"oafish\",\"oatmeal\",\"obedient\",\"obeisant\",\"obese\",\"obey\",\"object\",\"obnoxious\",\"obscene\",\"obsequious\",\"observant\",\"observation\",\"observe\",\"obsolete\",\"obtain\",\"obtainable\",\"occur\",\"ocean\",\"oceanic\",\"odd\",\"offbeat\",\"offend\",\"offer\",\"office\",\"oil\",\"old\",\"old-fashioned\",\"omniscient\",\"one\",\"onerous\",\"open\",\"opposite\",\"optimal\",\"orange\",\"oranges\",\"order\",\"ordinary\",\"organic\",\"ossified\",\"outgoing\",\"outrageous\",\"outstanding\",\"oval\",\"oven\",\"overconfident\",\"overflow\",\"overjoyed\",\"overrated\",\"overt\",\"overwrought\",\"owe\",\"own\",\"pack\",\"paddle\",\"page\",\"pail\",\"painful\",\"painstaking\",\"paint\",\"pale\",\"paltry\",\"pan\",\"pancake\",\"panicky\",\"panoramic\",\"paper\",\"parallel\",\"parcel\",\"parched\",\"park\",\"parsimonious\",\"part\",\"partner\",\"party\",\"pass\",\"passenger\",\"past\",\"paste\",\"pastoral\",\"pat\",\"pathetic\",\"pause\",\"payment\",\"peace\",\"peaceful\",\"pear\",\"peck\",\"pedal\",\"peel\",\"peep\",\"pen\",\"pencil\",\"penitent\",\"perfect\",\"perform\",\"periodic\",\"permissible\",\"permit\",\"perpetual\",\"person\",\"pest\",\"pet\",\"petite\",\"pets\",\"phobic\",\"phone\",\"physical\",\"picayune\",\"pick\",\"pickle\",\"picture\",\"pie\",\"pies\",\"pig\",\"pigs\",\"pin\",\"pinch\",\"pine\",\"pink\",\"pipe\",\"piquant\",\"pizzas\",\"place\",\"placid\",\"plain\",\"plan\",\"plane\",\"planes\",\"plant\",\"plantation\",\"plants\",\"plastic\",\"plate\",\"plausible\",\"play\",\"playground\",\"pleasant\",\"please\",\"pleasure\",\"plot\",\"plough\",\"plucky\",\"plug\",\"pocket\",\"point\",\"pointless\",\"poised\",\"poison\",\"poke\",\"polish\",\"polite\",\"political\",\"pollution\",\"poor\",\"pop\",\"popcorn\",\"porter\",\"position\",\"possess\",\"possessive\",\"possible\",\"post\",\"pot\",\"potato\",\"pour\",\"powder\",\"power\",\"powerful\",\"practice\",\"pray\",\"preach\",\"precede\",\"precious\",\"prefer\",\"premium\",\"prepare\",\"present\",\"preserve\",\"press\",\"pretend\",\"pretty\",\"prevent\",\"previous\",\"price\",\"pricey\",\"prick\",\"prickly\",\"print\",\"private\",\"probable\",\"produce\",\"productive\",\"profit\",\"profuse\",\"program\",\"promise\",\"property\",\"prose\",\"protect\",\"protective\",\"protest\",\"proud\",\"provide\",\"psychedelic\",\"psychotic\",\"public\",\"puffy\",\"pull\",\"pump\",\"pumped\",\"punch\",\"puncture\",\"punish\",\"punishment\",\"puny\",\"purple\",\"purpose\",\"purring\",\"push\",\"pushy\",\"puzzled\",\"puzzling\",\"quack\",\"quaint\",\"quarrelsome\",\"quarter\",\"quartz\",\"queen\",\"question\",\"questionable\",\"queue\",\"quick\",\"quickest\",\"quicksand\",\"quiet\",\"quill\",\"quilt\",\"quince\",\"quirky\",\"quiver\",\"quixotic\",\"quizzical\",\"rabbit\",\"rabbits\",\"rabid\",\"race\",\"racial\",\"radiate\",\"ragged\",\"rail\",\"railway\",\"rain\",\"rainstorm\",\"rainy\",\"raise\",\"rake\",\"rambunctious\",\"rampant\",\"range\",\"rapid\",\"rare\",\"raspy\",\"rat\",\"rate\",\"ratty\",\"ray\",\"reach\",\"reaction\",\"reading\",\"ready\",\"real\",\"realize\",\"reason\",\"rebel\",\"receipt\",\"receive\",\"receptive\",\"recess\",\"recognise\",\"recondite\",\"record\",\"red\",\"reduce\",\"redundant\",\"reflect\",\"reflective\",\"refuse\",\"regret\",\"regular\",\"reign\",\"reject\",\"rejoice\",\"relation\",\"relax\",\"release\",\"relieved\",\"religion\",\"rely\",\"remain\",\"remarkable\",\"remember\",\"remind\",\"reminiscent\",\"remove\",\"repair\",\"repeat\",\"replace\",\"reply\",\"report\",\"representative\",\"reproduce\",\"repulsive\",\"request\",\"rescue\",\"resolute\",\"resonant\",\"respect\",\"responsible\",\"rest\",\"retire\",\"return\",\"reward\",\"rhetorical\",\"rhyme\",\"rhythm\",\"rice\",\"rich\",\"riddle\",\"rifle\",\"right\",\"righteous\",\"rightful\",\"rigid\",\"ring\",\"rings\",\"rinse\",\"ripe\",\"risk\",\"ritzy\",\"river\",\"road\",\"roasted\",\"rob\",\"robin\",\"robust\",\"rock\",\"rod\",\"roll\",\"romantic\",\"roof\",\"room\",\"roomy\",\"root\",\"rose\",\"rot\",\"rotten\",\"rough\",\"round\",\"route\",\"royal\",\"rub\",\"ruddy\",\"rude\",\"ruin\",\"rule\",\"run\",\"rural\",\"rush\",\"rustic\",\"ruthless\",\"sable\",\"sack\",\"sad\",\"safe\",\"sail\",\"salt\",\"salty\",\"same\",\"sand\",\"sassy\",\"satisfy\",\"satisfying\",\"save\",\"savory\",\"saw\",\"scale\",\"scandalous\",\"scarce\",\"scare\",\"scarecrow\",\"scared\",\"scarf\",\"scary\",\"scatter\",\"scattered\",\"scene\",\"scent\",\"school\",\"science\",\"scientific\",\"scintillating\",\"scissors\",\"scold\",\"scorch\",\"scrape\",\"scratch\",\"scrawny\",\"scream\",\"screeching\",\"screw\",\"scribble\",\"scrub\",\"sea\",\"seal\",\"search\",\"seashore\",\"seat\",\"second\",\"second-hand\",\"secret\",\"secretary\",\"secretive\",\"sedate\",\"seed\",\"seemly\",\"selection\",\"selective\",\"self\",\"selfish\",\"sense\",\"separate\",\"serious\",\"servant\",\"serve\",\"settle\",\"shade\",\"shaggy\",\"shake\",\"shaky\",\"shallow\",\"shame\",\"shape\",\"share\",\"sharp\",\"shave\",\"sheep\",\"sheet\",\"shelf\",\"shelter\",\"shiny\",\"ship\",\"shirt\",\"shiver\",\"shivering\",\"shock\",\"shocking\",\"shoe\",\"shoes\",\"shop\",\"short\",\"show\",\"shrill\",\"shrug\",\"shut\",\"shy\",\"sick\",\"side\",\"sidewalk\",\"sigh\",\"sign\",\"signal\",\"silent\",\"silk\",\"silky\",\"silly\",\"silver\",\"simple\",\"simplistic\",\"sin\",\"sincere\",\"sink\",\"sip\",\"sister\",\"sisters\",\"six\",\"size\",\"skate\",\"ski\",\"skillful\",\"skin\",\"skinny\",\"skip\",\"skirt\",\"sky\",\"slap\",\"slave\",\"sleep\",\"sleepy\",\"sleet\",\"slim\",\"slimy\",\"slip\",\"slippery\",\"slope\",\"sloppy\",\"slow\",\"small\",\"smart\",\"smash\",\"smell\",\"smelly\",\"smile\",\"smiling\",\"smoggy\",\"smoke\",\"smooth\",\"snail\",\"snails\",\"snake\",\"snakes\",\"snatch\",\"sneaky\",\"sneeze\",\"sniff\",\"snobbish\",\"snore\",\"snotty\",\"snow\",\"soak\",\"soap\",\"society\",\"sock\",\"soda\",\"sofa\",\"soft\",\"soggy\",\"solid\",\"somber\",\"son\",\"song\",\"songs\",\"soothe\",\"sophisticated\",\"sordid\",\"sore\",\"sort\",\"sound\",\"soup\",\"sour\",\"space\",\"spade\",\"spare\",\"spark\",\"sparkle\",\"sparkling\",\"special\",\"spectacular\",\"spell\",\"spicy\",\"spiders\",\"spiffy\",\"spiky\",\"spill\",\"spiritual\",\"spiteful\",\"splendid\",\"spoil\",\"sponge\",\"spooky\",\"spoon\",\"spot\",\"spotless\",\"spotted\",\"spotty\",\"spray\",\"spring\",\"sprout\",\"spurious\",\"spy\",\"squalid\",\"square\",\"squash\",\"squeak\",\"squeal\",\"squealing\",\"squeamish\",\"squeeze\",\"squirrel\",\"stage\",\"stain\",\"staking\",\"stale\",\"stamp\",\"standing\",\"star\",\"stare\",\"start\",\"statement\",\"station\",\"statuesque\",\"stay\",\"steadfast\",\"steady\",\"steam\",\"steel\",\"steep\",\"steer\",\"stem\",\"step\",\"stereotyped\",\"stew\",\"stick\",\"sticks\",\"sticky\",\"stiff\",\"stimulating\",\"stingy\",\"stir\",\"stitch\",\"stocking\",\"stomach\",\"stone\",\"stop\",\"store\",\"stormy\",\"story\",\"stove\",\"straight\",\"strange\",\"stranger\",\"strap\",\"straw\",\"stream\",\"street\",\"strengthen\",\"stretch\",\"string\",\"strip\",\"striped\",\"stroke\",\"strong\",\"structure\",\"stuff\",\"stupendous\",\"stupid\",\"sturdy\",\"subdued\",\"subsequent\",\"substance\",\"substantial\",\"subtract\",\"succeed\",\"successful\",\"succinct\",\"suck\",\"sudden\",\"suffer\",\"sugar\",\"suggest\",\"suggestion\",\"suit\",\"sulky\",\"summer\",\"sun\",\"super\",\"superb\",\"superficial\",\"supply\",\"support\",\"suppose\",\"supreme\",\"surprise\",\"surround\",\"suspect\",\"suspend\",\"swanky\",\"sweater\",\"sweet\",\"sweltering\",\"swift\",\"swim\",\"swing\",\"switch\",\"symptomatic\",\"synonymous\",\"system\",\"table\",\"taboo\",\"tacit\",\"tacky\",\"tail\",\"talented\",\"talk\",\"tall\",\"tame\",\"tan\",\"tangible\",\"tangy\",\"tank\",\"tap\",\"tart\",\"taste\",\"tasteful\",\"tasteless\",\"tasty\",\"tawdry\",\"tax\",\"teaching\",\"team\",\"tearful\",\"tease\",\"tedious\",\"teeny\",\"teeny-tiny\",\"teeth\",\"telephone\",\"telling\",\"temper\",\"temporary\",\"tempt\",\"ten\",\"tendency\",\"tender\",\"tense\",\"tent\",\"tenuous\",\"terrible\",\"terrific\",\"terrify\",\"territory\",\"test\",\"tested\",\"testy\",\"texture\",\"thank\",\"thankful\",\"thaw\",\"theory\",\"therapeutic\",\"thick\",\"thin\",\"thing\",\"things\",\"thinkable\",\"third\",\"thirsty\",\"thought\",\"thoughtful\",\"thoughtless\",\"thread\",\"threatening\",\"three\",\"thrill\",\"throat\",\"throne\",\"thumb\",\"thunder\",\"thundering\",\"tick\",\"ticket\",\"tickle\",\"tidy\",\"tie\",\"tiger\",\"tight\",\"tightfisted\",\"time\",\"tin\",\"tiny\",\"tip\",\"tire\",\"tired\",\"tiresome\",\"title\",\"toad\",\"toe\",\"toes\",\"tomatoes\",\"tongue\",\"tooth\",\"toothbrush\",\"toothpaste\",\"toothsome\",\"top\",\"torpid\",\"touch\",\"tough\",\"tour\",\"tow\",\"towering\",\"town\",\"toy\",\"toys\",\"trace\",\"trade\",\"trail\",\"train\",\"trains\",\"tramp\",\"tranquil\",\"transport\",\"trap\",\"trashy\",\"travel\",\"tray\",\"treat\",\"treatment\",\"tree\",\"trees\",\"tremble\",\"tremendous\",\"trick\",\"tricky\",\"trip\",\"trite\",\"trot\",\"trouble\",\"troubled\",\"trousers\",\"truck\",\"trucks\",\"truculent\",\"true\",\"trust\",\"truthful\",\"try\",\"tub\",\"tug\",\"tumble\",\"turkey\",\"turn\",\"twig\",\"twist\",\"two\",\"type\",\"typical\",\"ubiquitous\",\"ugliest\",\"ugly\",\"ultra\",\"umbrella\",\"unable\",\"unaccountable\",\"unadvised\",\"unarmed\",\"unbecoming\",\"unbiased\",\"uncle\",\"uncovered\",\"understood\",\"underwear\",\"undesirable\",\"undress\",\"unequal\",\"unequaled\",\"uneven\",\"unfasten\",\"unhealthy\",\"uninterested\",\"unique\",\"unit\",\"unite\",\"unkempt\",\"unknown\",\"unlock\",\"unnatural\",\"unpack\",\"unruly\",\"unsightly\",\"unsuitable\",\"untidy\",\"unused\",\"unusual\",\"unwieldy\",\"unwritten\",\"upbeat\",\"uppity\",\"upset\",\"uptight\",\"use\",\"used\",\"useful\",\"useless\",\"utopian\",\"utter\",\"uttermost\",\"vacation\",\"vacuous\",\"vagabond\",\"vague\",\"valuable\",\"value\",\"van\",\"vanish\",\"various\",\"vase\",\"vast\",\"vegetable\",\"veil\",\"vein\",\"vengeful\",\"venomous\",\"verdant\",\"verse\",\"versed\",\"vessel\",\"vest\",\"victorious\",\"view\",\"vigorous\",\"violent\",\"violet\",\"visit\",\"visitor\",\"vivacious\",\"voice\",\"voiceless\",\"volatile\",\"volcano\",\"volleyball\",\"voracious\",\"voyage\",\"vulgar\",\"wacky\",\"waggish\",\"wail\",\"wait\",\"waiting\",\"wakeful\",\"walk\",\"wall\",\"wander\",\"wandering\",\"want\",\"wanting\",\"war\",\"warlike\",\"warm\",\"warn\",\"wary\",\"wash\",\"waste\",\"wasteful\",\"watch\",\"water\",\"watery\",\"wave\",\"waves\",\"wax\",\"way\",\"weak\",\"wealth\",\"wealthy\",\"weary\",\"weather\",\"week\",\"weigh\",\"weight\",\"welcome\",\"well-groomed\",\"well-made\",\"well-off\",\"well-to-do\",\"wet\",\"wheel\",\"whimsical\",\"whine\",\"whip\",\"whirl\",\"whisper\",\"whispering\",\"whistle\",\"white\",\"whole\",\"wholesale\",\"wicked\",\"wide\",\"wide-eyed\",\"wiggly\",\"wild\",\"wilderness\",\"willing\",\"wind\",\"window\",\"windy\",\"wine\",\"wing\",\"wink\",\"winter\",\"wipe\",\"wire\",\"wiry\",\"wise\",\"wish\",\"wistful\",\"witty\",\"wobble\",\"woebegone\",\"woman\",\"womanly\",\"women\",\"wonder\",\"wonderful\",\"wood\",\"wooden\",\"wool\",\"woozy\",\"word\",\"work\",\"workable\",\"worm\",\"worried\",\"worry\",\"worthless\",\"wound\",\"wrap\",\"wrathful\",\"wreck\",\"wren\",\"wrench\",\"wrestle\",\"wretched\",\"wriggle\",\"wrist\",\"writer\",\"writing\",\"wrong\",\"wry\",\"x-ray\",\"yak\",\"yam\",\"yard\",\"yarn\",\"yawn\",\"year\",\"yell\",\"yellow\",\"yielding\",\"yoke\",\"young\",\"youthful\",\"yummy\",\"zany\",\"zealous\",\"zebra\",\"zephyr\",\"zesty\",\"zinc\",\"zip\",\"zipper\",\"zippy\",\"zonked\",\"zoo\",\"zoom\"]}"
          ]
        }
      ]
    },
    {
      "cell_type": "code",
      "source": [
        "import random\n",
        "from google.colab import drive # 코렙에서 드라이브를 마운트한 후 경로를 지정해 import\n",
        "drive.mount('/content/drive')\n",
        "\n",
        "# 경로 추가\n",
        "import sys\n",
        "sys.path.append('/content/drive/My Drive/your_folder')  # 드라이브 내 폴더 경로\n",
        "import word  # word.py import\n",
        "\n",
        "\n",
        "def get_valid_word(words):\n",
        "  word = random.choice(words) #word에서 랜덤 선택\n",
        "  while '-' in word or ' ' in word:\n",
        "    word = random.choice(words)\n",
        "\n",
        "  return word\n",
        "\n",
        "def hangman():\n",
        "  word = get_valid_word(words)\n",
        "  word_letters = set(word) #letter in the word\n",
        "  alphabet = set(string.ascii_uppercase)\n",
        "  used_letters = set() #what the user has guessed\n",
        "\n",
        "  #getting user input\n",
        "  while len(word_letters) > 0:\n",
        "    #letters used\n",
        "    #' '.join(['a', 'b', 'cd']) --> 'a, b cd'\n",
        "    print('You have used these letters: ', ' '.join(used_letters))\n",
        "\n",
        "    #what current word is(is W - R D)\n",
        "    word_list = [letter if letter in used_letters else '-' for letter in word]\n",
        "    print('Current word: ', ' '.join(word_list))\n",
        "\n",
        "    user_letter = input('Guess a letter: ').upper()\n",
        "    if user_letter in alphabet - used_letters:\n",
        "      used_letters.add(user_letter)\n",
        "      if user_letter in word_letters:\n",
        "        word_letters.remove(user_letter)\n",
        "\n",
        "    elif user_letter in used_letters:\n",
        "      print('You have already used that character. Please try again.')\n",
        "\n",
        "    else:\n",
        "      print('Invalid character. Please try again.')\n",
        "\n",
        "  #gets here when len(word_letters) == 0\n",
        "\n",
        "#user_input = input('Type something: ')\n",
        "#print(user_input)\n",
        "\n",
        "hangman()\n",
        "\n",
        "\n",
        "\n",
        "\n"
      ],
      "metadata": {
        "id": "KvEFb57QAwdK",
        "colab": {
          "base_uri": "https://localhost:8080/",
          "height": 408
        },
        "outputId": "68b3d8d0-50cb-46b6-fabb-2b854cb24cd0"
      },
      "execution_count": 64,
      "outputs": [
        {
          "output_type": "stream",
          "name": "stdout",
          "text": [
            "Drive already mounted at /content/drive; to attempt to forcibly remount, call drive.mount(\"/content/drive\", force_remount=True).\n"
          ]
        },
        {
          "output_type": "error",
          "ename": "KeyError",
          "evalue": "0",
          "traceback": [
            "\u001b[0;31m---------------------------------------------------------------------------\u001b[0m",
            "\u001b[0;31mKeyError\u001b[0m                                  Traceback (most recent call last)",
            "\u001b[0;32m<ipython-input-64-e1ceeac7a415>\u001b[0m in \u001b[0;36m<cell line: 51>\u001b[0;34m()\u001b[0m\n\u001b[1;32m     49\u001b[0m \u001b[0;31m#print(user_input)\u001b[0m\u001b[0;34m\u001b[0m\u001b[0;34m\u001b[0m\u001b[0m\n\u001b[1;32m     50\u001b[0m \u001b[0;34m\u001b[0m\u001b[0m\n\u001b[0;32m---> 51\u001b[0;31m \u001b[0mhangman\u001b[0m\u001b[0;34m(\u001b[0m\u001b[0;34m)\u001b[0m\u001b[0;34m\u001b[0m\u001b[0;34m\u001b[0m\u001b[0m\n\u001b[0m\u001b[1;32m     52\u001b[0m \u001b[0;34m\u001b[0m\u001b[0m\n\u001b[1;32m     53\u001b[0m \u001b[0;34m\u001b[0m\u001b[0m\n",
            "\u001b[0;32m<ipython-input-64-e1ceeac7a415>\u001b[0m in \u001b[0;36mhangman\u001b[0;34m()\u001b[0m\n\u001b[1;32m     17\u001b[0m \u001b[0;34m\u001b[0m\u001b[0m\n\u001b[1;32m     18\u001b[0m \u001b[0;32mdef\u001b[0m \u001b[0mhangman\u001b[0m\u001b[0;34m(\u001b[0m\u001b[0;34m)\u001b[0m\u001b[0;34m:\u001b[0m\u001b[0;34m\u001b[0m\u001b[0;34m\u001b[0m\u001b[0m\n\u001b[0;32m---> 19\u001b[0;31m   \u001b[0mword\u001b[0m \u001b[0;34m=\u001b[0m \u001b[0mget_valid_word\u001b[0m\u001b[0;34m(\u001b[0m\u001b[0mwords\u001b[0m\u001b[0;34m)\u001b[0m\u001b[0;34m\u001b[0m\u001b[0;34m\u001b[0m\u001b[0m\n\u001b[0m\u001b[1;32m     20\u001b[0m   \u001b[0mword_letters\u001b[0m \u001b[0;34m=\u001b[0m \u001b[0mset\u001b[0m\u001b[0;34m(\u001b[0m\u001b[0mword\u001b[0m\u001b[0;34m)\u001b[0m \u001b[0;31m#letter in the word\u001b[0m\u001b[0;34m\u001b[0m\u001b[0;34m\u001b[0m\u001b[0m\n\u001b[1;32m     21\u001b[0m   \u001b[0malphabet\u001b[0m \u001b[0;34m=\u001b[0m \u001b[0mset\u001b[0m\u001b[0;34m(\u001b[0m\u001b[0mstring\u001b[0m\u001b[0;34m.\u001b[0m\u001b[0mascii_uppercase\u001b[0m\u001b[0;34m)\u001b[0m\u001b[0;34m\u001b[0m\u001b[0;34m\u001b[0m\u001b[0m\n",
            "\u001b[0;32m<ipython-input-64-e1ceeac7a415>\u001b[0m in \u001b[0;36mget_valid_word\u001b[0;34m(words)\u001b[0m\n\u001b[1;32m     10\u001b[0m \u001b[0;34m\u001b[0m\u001b[0m\n\u001b[1;32m     11\u001b[0m \u001b[0;32mdef\u001b[0m \u001b[0mget_valid_word\u001b[0m\u001b[0;34m(\u001b[0m\u001b[0mwords\u001b[0m\u001b[0;34m)\u001b[0m\u001b[0;34m:\u001b[0m\u001b[0;34m\u001b[0m\u001b[0;34m\u001b[0m\u001b[0m\n\u001b[0;32m---> 12\u001b[0;31m   \u001b[0mword\u001b[0m \u001b[0;34m=\u001b[0m \u001b[0mrandom\u001b[0m\u001b[0;34m.\u001b[0m\u001b[0mchoice\u001b[0m\u001b[0;34m(\u001b[0m\u001b[0mwords\u001b[0m\u001b[0;34m)\u001b[0m \u001b[0;31m#word에서 랜덤 선택\u001b[0m\u001b[0;34m\u001b[0m\u001b[0;34m\u001b[0m\u001b[0m\n\u001b[0m\u001b[1;32m     13\u001b[0m   \u001b[0;32mwhile\u001b[0m \u001b[0;34m'-'\u001b[0m \u001b[0;32min\u001b[0m \u001b[0mword\u001b[0m \u001b[0;32mor\u001b[0m \u001b[0;34m' '\u001b[0m \u001b[0;32min\u001b[0m \u001b[0mword\u001b[0m\u001b[0;34m:\u001b[0m\u001b[0;34m\u001b[0m\u001b[0;34m\u001b[0m\u001b[0m\n\u001b[1;32m     14\u001b[0m     \u001b[0mword\u001b[0m \u001b[0;34m=\u001b[0m \u001b[0mrandom\u001b[0m\u001b[0;34m.\u001b[0m\u001b[0mchoice\u001b[0m\u001b[0;34m(\u001b[0m\u001b[0mwords\u001b[0m\u001b[0;34m)\u001b[0m\u001b[0;34m\u001b[0m\u001b[0;34m\u001b[0m\u001b[0m\n",
            "\u001b[0;32m/usr/lib/python3.10/random.py\u001b[0m in \u001b[0;36mchoice\u001b[0;34m(self, seq)\u001b[0m\n\u001b[1;32m    376\u001b[0m         \u001b[0;34m\"\"\"Choose a random element from a non-empty sequence.\"\"\"\u001b[0m\u001b[0;34m\u001b[0m\u001b[0;34m\u001b[0m\u001b[0m\n\u001b[1;32m    377\u001b[0m         \u001b[0;31m# raises IndexError if seq is empty\u001b[0m\u001b[0;34m\u001b[0m\u001b[0;34m\u001b[0m\u001b[0m\n\u001b[0;32m--> 378\u001b[0;31m         \u001b[0;32mreturn\u001b[0m \u001b[0mseq\u001b[0m\u001b[0;34m[\u001b[0m\u001b[0mself\u001b[0m\u001b[0;34m.\u001b[0m\u001b[0m_randbelow\u001b[0m\u001b[0;34m(\u001b[0m\u001b[0mlen\u001b[0m\u001b[0;34m(\u001b[0m\u001b[0mseq\u001b[0m\u001b[0;34m)\u001b[0m\u001b[0;34m)\u001b[0m\u001b[0;34m]\u001b[0m\u001b[0;34m\u001b[0m\u001b[0;34m\u001b[0m\u001b[0m\n\u001b[0m\u001b[1;32m    379\u001b[0m \u001b[0;34m\u001b[0m\u001b[0m\n\u001b[1;32m    380\u001b[0m     \u001b[0;32mdef\u001b[0m \u001b[0mshuffle\u001b[0m\u001b[0;34m(\u001b[0m\u001b[0mself\u001b[0m\u001b[0;34m,\u001b[0m \u001b[0mx\u001b[0m\u001b[0;34m,\u001b[0m \u001b[0mrandom\u001b[0m\u001b[0;34m=\u001b[0m\u001b[0;32mNone\u001b[0m\u001b[0;34m)\u001b[0m\u001b[0;34m:\u001b[0m\u001b[0;34m\u001b[0m\u001b[0;34m\u001b[0m\u001b[0m\n",
            "\u001b[0;31mKeyError\u001b[0m: 0"
          ]
        }
      ]
    },
    {
      "cell_type": "markdown",
      "source": [
        "#6. Coundown Timer"
      ],
      "metadata": {
        "id": "LLvXHMzKAw89"
      }
    },
    {
      "cell_type": "code",
      "source": [],
      "metadata": {
        "id": "UBBxs6Nmy4G1"
      },
      "execution_count": null,
      "outputs": []
    }
  ]
}